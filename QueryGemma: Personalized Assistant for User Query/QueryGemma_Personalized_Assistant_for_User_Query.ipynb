{
  "cells": [
    {
      "cell_type": "markdown",
      "metadata": {
        "id": "BHwNFXlY5P1g"
      },
      "source": [
        "### **Install Libraries**"
      ]
    },
    {
      "cell_type": "code",
      "execution_count": 1,
      "metadata": {
        "colab": {
          "base_uri": "https://localhost:8080/"
        },
        "id": "PSvhb4nggQ6k",
        "outputId": "a9e44fdc-fe57-4548-f260-006f0e0e897e"
      },
      "outputs": [
        {
          "name": "stdout",
          "output_type": "stream",
          "text": [
            "Requirement already satisfied: langchain in /usr/local/lib/python3.11/dist-packages (0.3.19)\n",
            "Requirement already satisfied: langchain-core<1.0.0,>=0.3.35 in /usr/local/lib/python3.11/dist-packages (from langchain) (0.3.40)\n",
            "Requirement already satisfied: langchain-text-splitters<1.0.0,>=0.3.6 in /usr/local/lib/python3.11/dist-packages (from langchain) (0.3.6)\n",
            "Requirement already satisfied: langsmith<0.4,>=0.1.17 in /usr/local/lib/python3.11/dist-packages (from langchain) (0.3.11)\n",
            "Requirement already satisfied: pydantic<3.0.0,>=2.7.4 in /usr/local/lib/python3.11/dist-packages (from langchain) (2.10.6)\n",
            "Requirement already satisfied: SQLAlchemy<3,>=1.4 in /usr/local/lib/python3.11/dist-packages (from langchain) (2.0.38)\n",
            "Requirement already satisfied: requests<3,>=2 in /usr/local/lib/python3.11/dist-packages (from langchain) (2.32.3)\n",
            "Requirement already satisfied: PyYAML>=5.3 in /usr/local/lib/python3.11/dist-packages (from langchain) (6.0.2)\n",
            "Requirement already satisfied: aiohttp<4.0.0,>=3.8.3 in /usr/local/lib/python3.11/dist-packages (from langchain) (3.11.13)\n",
            "Requirement already satisfied: tenacity!=8.4.0,<10,>=8.1.0 in /usr/local/lib/python3.11/dist-packages (from langchain) (9.0.0)\n",
            "Requirement already satisfied: numpy<2,>=1.26.4 in /usr/local/lib/python3.11/dist-packages (from langchain) (1.26.4)\n",
            "Requirement already satisfied: aiohappyeyeballs>=2.3.0 in /usr/local/lib/python3.11/dist-packages (from aiohttp<4.0.0,>=3.8.3->langchain) (2.4.6)\n",
            "Requirement already satisfied: aiosignal>=1.1.2 in /usr/local/lib/python3.11/dist-packages (from aiohttp<4.0.0,>=3.8.3->langchain) (1.3.2)\n",
            "Requirement already satisfied: attrs>=17.3.0 in /usr/local/lib/python3.11/dist-packages (from aiohttp<4.0.0,>=3.8.3->langchain) (25.1.0)\n",
            "Requirement already satisfied: frozenlist>=1.1.1 in /usr/local/lib/python3.11/dist-packages (from aiohttp<4.0.0,>=3.8.3->langchain) (1.5.0)\n",
            "Requirement already satisfied: multidict<7.0,>=4.5 in /usr/local/lib/python3.11/dist-packages (from aiohttp<4.0.0,>=3.8.3->langchain) (6.1.0)\n",
            "Requirement already satisfied: propcache>=0.2.0 in /usr/local/lib/python3.11/dist-packages (from aiohttp<4.0.0,>=3.8.3->langchain) (0.3.0)\n",
            "Requirement already satisfied: yarl<2.0,>=1.17.0 in /usr/local/lib/python3.11/dist-packages (from aiohttp<4.0.0,>=3.8.3->langchain) (1.18.3)\n",
            "Requirement already satisfied: jsonpatch<2.0,>=1.33 in /usr/local/lib/python3.11/dist-packages (from langchain-core<1.0.0,>=0.3.35->langchain) (1.33)\n",
            "Requirement already satisfied: packaging<25,>=23.2 in /usr/local/lib/python3.11/dist-packages (from langchain-core<1.0.0,>=0.3.35->langchain) (24.2)\n",
            "Requirement already satisfied: typing-extensions>=4.7 in /usr/local/lib/python3.11/dist-packages (from langchain-core<1.0.0,>=0.3.35->langchain) (4.12.2)\n",
            "Requirement already satisfied: httpx<1,>=0.23.0 in /usr/local/lib/python3.11/dist-packages (from langsmith<0.4,>=0.1.17->langchain) (0.28.1)\n",
            "Requirement already satisfied: orjson<4.0.0,>=3.9.14 in /usr/local/lib/python3.11/dist-packages (from langsmith<0.4,>=0.1.17->langchain) (3.10.15)\n",
            "Requirement already satisfied: requests-toolbelt<2.0.0,>=1.0.0 in /usr/local/lib/python3.11/dist-packages (from langsmith<0.4,>=0.1.17->langchain) (1.0.0)\n",
            "Requirement already satisfied: zstandard<0.24.0,>=0.23.0 in /usr/local/lib/python3.11/dist-packages (from langsmith<0.4,>=0.1.17->langchain) (0.23.0)\n",
            "Requirement already satisfied: annotated-types>=0.6.0 in /usr/local/lib/python3.11/dist-packages (from pydantic<3.0.0,>=2.7.4->langchain) (0.7.0)\n",
            "Requirement already satisfied: pydantic-core==2.27.2 in /usr/local/lib/python3.11/dist-packages (from pydantic<3.0.0,>=2.7.4->langchain) (2.27.2)\n",
            "Requirement already satisfied: charset-normalizer<4,>=2 in /usr/local/lib/python3.11/dist-packages (from requests<3,>=2->langchain) (3.4.1)\n",
            "Requirement already satisfied: idna<4,>=2.5 in /usr/local/lib/python3.11/dist-packages (from requests<3,>=2->langchain) (3.10)\n",
            "Requirement already satisfied: urllib3<3,>=1.21.1 in /usr/local/lib/python3.11/dist-packages (from requests<3,>=2->langchain) (2.3.0)\n",
            "Requirement already satisfied: certifi>=2017.4.17 in /usr/local/lib/python3.11/dist-packages (from requests<3,>=2->langchain) (2025.1.31)\n",
            "Requirement already satisfied: greenlet!=0.4.17 in /usr/local/lib/python3.11/dist-packages (from SQLAlchemy<3,>=1.4->langchain) (3.1.1)\n",
            "Requirement already satisfied: anyio in /usr/local/lib/python3.11/dist-packages (from httpx<1,>=0.23.0->langsmith<0.4,>=0.1.17->langchain) (3.7.1)\n",
            "Requirement already satisfied: httpcore==1.* in /usr/local/lib/python3.11/dist-packages (from httpx<1,>=0.23.0->langsmith<0.4,>=0.1.17->langchain) (1.0.7)\n",
            "Requirement already satisfied: h11<0.15,>=0.13 in /usr/local/lib/python3.11/dist-packages (from httpcore==1.*->httpx<1,>=0.23.0->langsmith<0.4,>=0.1.17->langchain) (0.14.0)\n",
            "Requirement already satisfied: jsonpointer>=1.9 in /usr/local/lib/python3.11/dist-packages (from jsonpatch<2.0,>=1.33->langchain-core<1.0.0,>=0.3.35->langchain) (3.0.0)\n",
            "Requirement already satisfied: sniffio>=1.1 in /usr/local/lib/python3.11/dist-packages (from anyio->httpx<1,>=0.23.0->langsmith<0.4,>=0.1.17->langchain) (1.3.1)\n",
            "\u001b[2K   \u001b[90m━━━━━━━━━━━━━━━━━━━━━━━━━━━━━━━━━━━━━━━━\u001b[0m \u001b[32m121.9/121.9 kB\u001b[0m \u001b[31m2.9 MB/s\u001b[0m eta \u001b[36m0:00:00\u001b[0m\n",
            "\u001b[?25h"
          ]
        }
      ],
      "source": [
        "! pip install -U langchain\n",
        "! pip install -qU langchain[groq]"
      ]
    },
    {
      "cell_type": "code",
      "execution_count": 2,
      "metadata": {
        "id": "3LgwH4YCszyd"
      },
      "outputs": [],
      "source": [
        "from langchain_core.prompts import ChatPromptTemplate\n",
        "from langchain_core.output_parsers import StrOutputParser"
      ]
    },
    {
      "cell_type": "markdown",
      "metadata": {
        "id": "VovbN3DayXcj"
      },
      "source": [
        "### **set envorinment variables**"
      ]
    },
    {
      "cell_type": "code",
      "execution_count": null,
      "metadata": {
        "id": "KeQoU5JTh3AP"
      },
      "outputs": [],
      "source": [
        "import os\n",
        "\n",
        "os.environ['LANGSMITH_TRACING'] = \"true\"   # for tracing api calls\n",
        "os.environ['LANGSMITH_ENDPOINT'] = \"https://api.smith.langcha   in.com\"  # provide the url where it will trace\n",
        "os.environ['LANGSMITH_API_KEY'] = \"ENTER_YOUR_LANGCHAIN_API_KEY\" # api key to access langchain\n",
        "os.environ['LANGSMITH_PROJECT'] =\"GIVE_PROJECT_NAME\" # project name on langsmith\n",
        "os.environ['GROQ_API_KEY'] = \"ENTER_YOUR_GROQ_API_KEY\" # LLM api key for"
      ]
    },
    {
      "cell_type": "markdown",
      "metadata": {
        "id": "tnmA5ZxEyW_F"
      },
      "source": []
    },
    {
      "cell_type": "markdown",
      "metadata": {
        "id": "Ek2JFEMU2lQn"
      },
      "source": [
        "\n",
        "### **Load LLaMA3 chat model**"
      ]
    },
    {
      "cell_type": "code",
      "execution_count": 8,
      "metadata": {
        "colab": {
          "base_uri": "https://localhost:8080/"
        },
        "id": "rFOm0Q97iAJP",
        "outputId": "83f31523-e3e6-4d26-e771-360b62939436"
      },
      "outputs": [
        {
          "data": {
            "text/plain": [
              "ChatGroq(client=<groq.resources.chat.completions.Completions object at 0x788fbcebda50>, async_client=<groq.resources.chat.completions.AsyncCompletions object at 0x788fbced8ad0>, model_name='gemma2-9b-it', model_kwargs={}, groq_api_key=SecretStr('**********'))"
            ]
          },
          "execution_count": 8,
          "metadata": {},
          "output_type": "execute_result"
        }
      ],
      "source": [
        "from langchain.chat_models import init_chat_model\n",
        "\n",
        "llm = init_chat_model(\"gemma2-9b-it\", model_provider=\"groq\")\n",
        "llm"
      ]
    },
    {
      "cell_type": "markdown",
      "metadata": {
        "id": "COSv4AL62rbZ"
      },
      "source": [
        "### **Perform Query to LLM**"
      ]
    },
    {
      "cell_type": "code",
      "execution_count": 9,
      "metadata": {
        "colab": {
          "base_uri": "https://localhost:8080/"
        },
        "id": "2-Rr-abMiLmV",
        "outputId": "8e86cc07-d81e-4de5-d9d5-6f9e0e545aa0"
      },
      "outputs": [
        {
          "name": "stdout",
          "output_type": "stream",
          "text": [
            "The capital of India is **New Delhi**. \n",
            "\n"
          ]
        }
      ],
      "source": [
        "response = llm.invoke('what is the capital of india ?')\n",
        "print(response.content)"
      ]
    },
    {
      "cell_type": "code",
      "execution_count": 10,
      "metadata": {
        "id": "Y0QR-vZYsZ4X"
      },
      "outputs": [],
      "source": [
        "prompt = ChatPromptTemplate.from_messages(\n",
        "    [(\"system\", \"you are a helpful assistant. Please responde to the user queries.\"),\n",
        "     (\"user\", \"Question : {question}\")]\n",
        ")"
      ]
    },
    {
      "cell_type": "markdown",
      "metadata": {
        "id": "VrNfK3Wu43fL"
      },
      "source": [
        "### **Create Chain with Prompt, LLM and output Parser**"
      ]
    },
    {
      "cell_type": "code",
      "execution_count": 11,
      "metadata": {
        "id": "KByhhzr5utep"
      },
      "outputs": [],
      "source": [
        "output_parser = StrOutputParser()\n",
        "\n",
        "chain = prompt | llm | output_parser"
      ]
    },
    {
      "cell_type": "markdown",
      "metadata": {
        "id": "A5ovhmGh5GKQ"
      },
      "source": [
        "### **Call the LLM**"
      ]
    },
    {
      "cell_type": "code",
      "execution_count": 12,
      "metadata": {
        "colab": {
          "base_uri": "https://localhost:8080/"
        },
        "id": "flZ4TxkhvDA5",
        "outputId": "60bcd79f-fb56-42d2-f982-c2bb3429293b"
      },
      "outputs": [
        {
          "name": "stderr",
          "output_type": "stream",
          "text": [
            "WARNING:langsmith.client:Failed to send compressed multipart ingest: langsmith.utils.LangSmithError: Failed to POST https://api.smith.langchain.com/runs/multipart in LangSmith API. HTTPError('403 Client Error: Forbidden for url: https://api.smith.langchain.com/runs/multipart', '{\"error\":\"Forbidden\"}\\n')\n"
          ]
        },
        {
          "name": "stdout",
          "output_type": "stream",
          "text": [
            "```python\n",
            "# Method 1: Using a temporary variable\n",
            "\n",
            "num1 = 10\n",
            "num2 = 5\n",
            "\n",
            "print(f\"Before swapping: num1 = {num1}, num2 = {num2}\")\n",
            "\n",
            "temp = num1\n",
            "num1 = num2\n",
            "num2 = temp\n",
            "\n",
            "print(f\"After swapping: num1 = {num1}, num2 = {num2}\")\n",
            "\n",
            "# Method 2: Using tuple unpacking\n",
            "\n",
            "num1 = 10\n",
            "num2 = 5\n",
            "\n",
            "print(f\"Before swapping: num1 = {num1}, num2 = {num2}\")\n",
            "\n",
            "num1, num2 = num2, num1\n",
            "\n",
            "print(f\"After swapping: num1 = {num1}, num2 = {num2}\")\n",
            "\n",
            "# Method 3: Using arithmetic operators\n",
            "\n",
            "num1 = 10\n",
            "num2 = 5\n",
            "\n",
            "print(f\"Before swapping: num1 = {num1}, num2 = {num2}\")\n",
            "\n",
            "num1 = num1 + num2\n",
            "num2 = num1 - num2\n",
            "num1 = num1 - num2\n",
            "\n",
            "print(f\"After swapping: num1 = {num1}, num2 = {num2}\")\n",
            "```\n",
            "\n",
            "**Explanation:**\n",
            "\n",
            "* **Method 1:** This is the classic method using a temporary variable (`temp`) to hold one of the values while the swap occurs.\n",
            "\n",
            "* **Method 2:** This method leverages Python's tuple unpacking. By assigning the values to a tuple on the right side, Python simultaneously unpacks and assigns them to the variables on the left.\n",
            "\n",
            "* **Method 3:** This method uses arithmetic operators (`+`, `-`) to swap the values. It's less common but demonstrates an alternative approach.\n",
            "\n",
            "Each method achieves the same result of swapping the values of `num1` and `num2`. Choose the method that you find most readable and suitable for your situation.\n",
            "\n"
          ]
        }
      ],
      "source": [
        "print(chain.invoke({'question': 'give me python code to swap two numbers'}))"
      ]
    },
    {
      "cell_type": "markdown",
      "metadata": {
        "id": "2jT0fxQD6YJ-"
      },
      "source": [
        "### **Perform Another Query**"
      ]
    },
    {
      "cell_type": "code",
      "execution_count": 13,
      "metadata": {
        "colab": {
          "base_uri": "https://localhost:8080/"
        },
        "id": "pz5RSKcFwiIp",
        "outputId": "62962e8e-f7aa-444e-90cd-831d64b334bc"
      },
      "outputs": [
        {
          "name": "stdout",
          "output_type": "stream",
          "text": [
            "AGI stands for **Artificial General Intelligence**.  \n",
            "\n",
            "It's a type of artificial intelligence that aims to create machines with the same cognitive abilities as humans. This means they could:\n",
            "\n",
            "* **Understand and learn** from any information, just like we do.\n",
            "* **Solve problems** creatively and adapt to new situations.\n",
            "* **Reason and make decisions** logically.\n",
            "* **Have consciousness and self-awareness** (this is still debated).\n",
            "\n",
            "Think of it like this: today's AI is very good at specific tasks, like playing chess or translating languages. But AGI would be able to do *any* intellectual task a human can, and potentially even surpass us in some areas.\n",
            "\n",
            "**It's important to note:** AGI doesn't exist yet. It's a long-term goal for AI researchers, and there are many technical and ethical challenges to overcome before we get there.\n",
            "\n"
          ]
        }
      ],
      "source": [
        "print(chain.invoke({'question': 'what is AGI ?'}))"
      ]
    },
    {
      "cell_type": "code",
      "execution_count": null,
      "metadata": {
        "id": "2Rdy4LnN6gbK"
      },
      "outputs": [],
      "source": []
    }
  ],
  "metadata": {
    "colab": {
      "provenance": []
    },
    "kernelspec": {
      "display_name": "Python 3",
      "name": "python3"
    },
    "language_info": {
      "name": "python"
    }
  },
  "nbformat": 4,
  "nbformat_minor": 0
}
